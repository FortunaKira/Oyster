{
 "cells": [
  {
   "cell_type": "code",
   "execution_count": null,
   "id": "977f043c-3d59-49ef-a456-4f9a7bcc8b47",
   "metadata": {},
   "outputs": [],
   "source": [
    "# !python -V # Проверка версии"
   ]
  },
  {
   "cell_type": "code",
   "execution_count": null,
   "id": "bf1e9d3f-59aa-49c5-aac6-77e8ed9518c0",
   "metadata": {
    "tags": []
   },
   "outputs": [],
   "source": [
    "# !pip install -r requirements.txt # Установка библиотек"
   ]
  },
  {
   "cell_type": "code",
   "execution_count": null,
   "id": "40bdc515-348c-4b48-87a9-e5311fa9a23c",
   "metadata": {},
   "outputs": [],
   "source": [
    "# Добавляла в дальнейшем:\n",
    "# pip install phik"
   ]
  }
 ],
 "metadata": {
  "kernelspec": {
   "display_name": "Python 3 (ipykernel)",
   "language": "python",
   "name": "python3"
  },
  "language_info": {
   "codemirror_mode": {
    "name": "ipython",
    "version": 3
   },
   "file_extension": ".py",
   "mimetype": "text/x-python",
   "name": "python",
   "nbconvert_exporter": "python",
   "pygments_lexer": "ipython3",
   "version": "3.9.18"
  }
 },
 "nbformat": 4,
 "nbformat_minor": 5
}
