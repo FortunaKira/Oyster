{
 "cells": [
  {
   "cell_type": "markdown",
   "id": "273c67eb-f721-4df4-a5ef-22e00e582dab",
   "metadata": {},
   "source": [
    "# Pet-project Oyster"
   ]
  },
  {
   "cell_type": "markdown",
   "id": "fb719df9-a679-4250-81b9-20465283f111",
   "metadata": {},
   "source": [
    "## Описание проекта"
   ]
  },
  {
   "cell_type": "markdown",
   "id": "7d9b57b9-d0dd-4302-8678-11e0d429c160",
   "metadata": {},
   "source": [
    "TODO\n",
    "\n",
    "https://habr.com/ru/sandbox/197522/\n",
    "https://proverkacheka.com/cabinet/checks"
   ]
  },
  {
   "cell_type": "markdown",
   "id": "e26eeae0-6c41-40d8-b2c2-b527dc041644",
   "metadata": {},
   "source": [
    "## Описание данных"
   ]
  },
  {
   "cell_type": "markdown",
   "id": "60c13946-3023-4f1b-9df1-9e301a72502b",
   "metadata": {},
   "source": [
    "TODO  \n",
    "qrraws.csv  \n",
    "Bills_(year).csv  \n",
    "Goods_(year).csv  "
   ]
  },
  {
   "cell_type": "markdown",
   "id": "1e82f65a-c791-421b-ab2c-2c1720d8ba83",
   "metadata": {},
   "source": [
    "## Импорт библиотек"
   ]
  },
  {
   "cell_type": "code",
   "execution_count": 1,
   "id": "567de25d-ab9c-491f-ba25-195548fc7fb0",
   "metadata": {},
   "outputs": [],
   "source": [
    "import pandas as pd\n",
    "import matplotlib.pyplot as plt\n",
    "import numpy as np\n",
    "import seaborn as sns\n",
    "\n",
    "import requests\n",
    "import json\n",
    "import uuid\n",
    "import datetime\n",
    "import os\n"
   ]
  },
  {
   "cell_type": "markdown",
   "id": "7f49f375-26c4-4a17-9a77-d9704763a79a",
   "metadata": {},
   "source": [
    "## Константы"
   ]
  },
  {
   "cell_type": "code",
   "execution_count": 2,
   "id": "a8e8c04b-67fa-4b00-8d23-12b52c6b58cd",
   "metadata": {},
   "outputs": [],
   "source": [
    "URL = \"https://proverkacheka.com/api/v1/check/get\"\n",
    "TOKEN = \"25602.ZzjFe81k1NGymEnRU\"\n",
    "QRRAWS_PATH = \"./sources/qrraws.csv\"\n",
    "SOURCES_DIR = \"./sources\"\n",
    "# BILLS_SOURCE_NAME = \"Bill\"\n",
    "# GOODS_SOURCE_NAME = \"\""
   ]
  },
  {
   "cell_type": "markdown",
   "id": "5b8cb459-f26b-4c3b-b890-60d36e4f51e2",
   "metadata": {},
   "source": [
    "## Вспомогательные методы"
   ]
  },
  {
   "cell_type": "markdown",
   "id": "8925f574-c5dd-4d2f-b974-2cce030f4106",
   "metadata": {},
   "source": [
    "### Для подгрузки данных"
   ]
  },
  {
   "cell_type": "code",
   "execution_count": 3,
   "id": "011eef19-9e3d-4670-bd44-8bbc65b03616",
   "metadata": {},
   "outputs": [],
   "source": [
    "# ОТЛАЖЕНО\n",
    "def load_qrraws_data():\n",
    "    \"\"\"\n",
    "    Метод, который выгружает qrraws_data и возвращает df \n",
    "    и выводит справочнуюинформацию о нём\n",
    "    \"\"\"\n",
    "    \n",
    "    qrraws_data = pd.read_csv(QRRAWS_PATH, sep=';')\n",
    "    qrraws_data = qrraws_data.set_index('id')\n",
    "    \n",
    "    # Вывод справочной информации\n",
    "#     print(qrraws_data.head(3))\n",
    "#     qrraws_data.info()\n",
    "    \n",
    "    return qrraws_data"
   ]
  },
  {
   "cell_type": "code",
   "execution_count": 4,
   "id": "06b873e3-bf74-4dd8-a4ea-1e318ca79933",
   "metadata": {},
   "outputs": [],
   "source": [
    "# ОТЛАЖЕНО\n",
    "def get_bill_data(qrraw, state):\n",
    "    \"\"\"\n",
    "    Метод отправляет обращения на сервис проверки чеков, если по этому чеку ещё нет записи в Bills_year.csv (state != 1),\n",
    "    после этого, если всё хорошо (код ответа == 1), обращается к методу записи результата в Bills_year.csv. \n",
    "    При любом исходе метод возвращает новый state для текущего qrraw.\n",
    "    \n",
    "    Пример qrraw:\n",
    "    \"t=20200924T1837&s=349.93&fn=9282440300682838&i=46534&fp=1273019065&n=1\"\n",
    "    \"\"\"\n",
    "    \n",
    "    if state == 1:\n",
    "        return state\n",
    "    \n",
    "    url = URL\n",
    "    data = {\n",
    "        \"token\": TOKEN,\n",
    "        \"qrraw\": qrraw,\n",
    "    }\n",
    "    r = requests.post(url, data=data)\n",
    "    result = json.loads(r.text)\n",
    "    \n",
    "    if result['code'] != 1:\n",
    "        print(f\"ERR {result['code']}, {result['data']} qrraw = {qrraw}\")\n",
    "    else:\n",
    "        write_bill_data(result, r.text)\n",
    "    return result['code']\n",
    "\n",
    "# TODO проработать расшифровку кодов ответов. Обрабатываем по-новой те записи, где код не 1\n",
    "# ERR 3, Превышено количество обращений по чеку.\n",
    "# ERR 3, Превышено количество обращений для учетной записи пользователя.\n",
    "# ERR 4, Не вышло время ожидания перед повторным запросом.\n",
    "# ERR 5, Нет информации по чеку (прочее)."
   ]
  },
  {
   "cell_type": "code",
   "execution_count": 5,
   "id": "32e097e8-818b-4100-b63c-bbc33d8aa0b9",
   "metadata": {},
   "outputs": [],
   "source": [
    "# ОТЛАЖЕНО\n",
    "def write_bill_data(result, text_version):\n",
    "    \"\"\"\n",
    "    Метод добавляет запись в таблицу Bills_year.csv. Происходит автоматическое создание файла по году, если такого ещё нет.\n",
    "    При первичном создании в bill_data.to_csv header=True, при последующих False, чтобы не дублировались заголовки.\n",
    "    Метод возвращает 200, если в процессе работы не произошло ошибок.\n",
    "    \"\"\"\n",
    "    \n",
    "    records_year = pd.to_datetime(result['data']['json']['dateTime'], format='%Y-%m-%dT%H:%M:%S').year\n",
    "    record_uuid = uuid.uuid4()\n",
    "    qrraw = result['request']['qrraw']\n",
    "    scan_date = pd.to_datetime(datetime.date.today().isoformat(), format='%Y-%m-%d')\n",
    "    day_of_purchase = pd.to_datetime(result['data']['json']['dateTime'], format='%Y-%m-%dT%H:%M:%S')\n",
    "    \n",
    "    bill_data = pd.DataFrame(\n",
    "        [[record_uuid, qrraw, text_version, scan_date, day_of_purchase, 0]], \n",
    "        columns=['id', 'qrraw', 'full_data', 'scan_date', 'day_of_purchase', 'parsed']\n",
    "    )\n",
    "    file_path = f'./sources/Bills_{records_year}.csv'\n",
    "    header_flag = check_file(file_path) == False\n",
    "    \n",
    "    bill_data.to_csv(file_path, mode='a', header=header_flag, index=False)\n",
    "    return 200"
   ]
  },
  {
   "cell_type": "code",
   "execution_count": 6,
   "id": "d9234c99-b2fa-4838-96df-d7ea28bffd30",
   "metadata": {},
   "outputs": [],
   "source": [
    "# ОТЛАЖЕНО\n",
    "def check_file(file_path):\n",
    "    \"\"\"\n",
    "    Метод проверяет, существует ли файл по указанному пути. Возвращает, соответственно True или False.\n",
    "    \"\"\"\n",
    "    \n",
    "    if os.path.exists(file_path):\n",
    "        return True\n",
    "    else:\n",
    "        return False"
   ]
  },
  {
   "cell_type": "code",
   "execution_count": 21,
   "id": "9cb5274f-bad3-4e41-b0d5-07f1e7f74f94",
   "metadata": {},
   "outputs": [],
   "source": [
    "def load_goods_data(bill_id, full_data, parsed):\n",
    "    \"\"\"\n",
    "    Метод, который принимает инфомацию полную по чеку и делит его на товары из этого чека.\n",
    "    После этого добавляет записи в источник Goods_year.csv и возврашает 1 в качетве отметки о выполнении.\n",
    "    \"\"\"\n",
    "    if parsed == 1:\n",
    "        return parsed\n",
    "    \n",
    "    full_data = json.loads(full_data)\n",
    "    records_year = pd.to_datetime(full_data['data']['json']['dateTime'], format='%Y-%m-%dT%H:%M:%S').year\n",
    "    shop_name = full_data['data']['json']['retailPlace']\n",
    "    shop_address = full_data['data']['json']['metadata']['address']\n",
    "    day_of_purchase = pd.to_datetime(full_data['data']['json']['dateTime'], format='%Y-%m-%dT%H:%M:%S')\n",
    "    load_date = pd.to_datetime(datetime.date.today().isoformat(), format='%Y-%m-%d')\n",
    "    \n",
    "    for item in full_data['data']['json']['items']:\n",
    "        name = item['name']\n",
    "        price = item['price']\n",
    "        quantity = item['quantity']\n",
    "        full_cost = item['sum']\n",
    "        category = detect_category(name) # TODO в разработке отдельный метод-классификатор, пока возвращает пустую строку всегда\n",
    "        \n",
    "        good_data = pd.DataFrame(\n",
    "            [[bill_id, name, category, price, quantity, full_cost, shop_name, shop_address, day_of_purchase, load_date]], \n",
    "            columns=['bill_id', 'name', 'category', 'price', 'quantity', 'full_cost', 'shop_name', 'shop_address', 'day_of_purchase', 'load_date']\n",
    "        )\n",
    "        file_path = f'./sources/Goods_{records_year}.csv'\n",
    "        header_flag = check_file(file_path) == False\n",
    "        \n",
    "        good_data.to_csv(file_path, mode='a', header=header_flag, index=False)\n",
    "    return 1"
   ]
  },
  {
   "cell_type": "code",
   "execution_count": 22,
   "id": "1d5db340-b989-4bae-8e71-11c490325684",
   "metadata": {},
   "outputs": [],
   "source": [
    "def start_goods_loader():\n",
    "    \"\"\"\n",
    "    Метод, который проходится по Bills_year.csv и там, где parsed != 1, парсит чек по товарам метоом load_goods_data().\n",
    "    После парса чека, обновляет параметр parsed=1 и обновляет источник Bills_year.csv.\n",
    "    \"\"\"\n",
    "    # Получаем список файлов\n",
    "    files = os.listdir(SOURCES_DIR)\n",
    "    found = [file for file in files if 'Bills' in file]\n",
    "    years_list = list(map(lambda x: x.split('.')[0].split('_')[1], found))\n",
    "    \n",
    "    for year in years_list:\n",
    "        bills_data = pd.read_csv(f'./sources/Bills_{year}.csv')\n",
    "    \n",
    "        # Запуск загрузки в Goods_year.csv\n",
    "        bills_data['parsed'] = bills_data.apply(lambda x: load_goods_data(x.id, x.full_data, x.parsed), axis=1)\n",
    "        \n",
    "        # Перезапись данных в Bills_year.csv, туда отправляются обновлённые коды стейта загрузки в Goods_year.csv\n",
    "        bills_data.to_csv(f'./sources/Bills_{year}.csv', header=True, index=False)\n",
    "        display(f'Обработка данных из Bills_{year}.csv COMPLETED')"
   ]
  },
  {
   "cell_type": "code",
   "execution_count": 9,
   "id": "20814602-7ec1-46a2-97e9-abf10c3c23a0",
   "metadata": {},
   "outputs": [],
   "source": [
    "def detect_category(good_name):\n",
    "    \"\"\"\n",
    "    TODO\n",
    "    \"\"\"\n",
    "    #TODO\n",
    "    return ''"
   ]
  },
  {
   "cell_type": "code",
   "execution_count": 24,
   "id": "e6969c98-07de-43ad-8f75-b12609ff8547",
   "metadata": {},
   "outputs": [],
   "source": [
    "def new_data_processor(new_qrraws):\n",
    "    '''\n",
    "    Этот метод состоит из 3-х этапов:\n",
    "    1. STAGE: new_qrraws -> qrraws.csv\n",
    "    2. STAGE: qrraws.csv -> Bills_year.csv\n",
    "    3. STAGE: Bills_year.csv -> Goods_year.csv\n",
    "\n",
    "    Вызов каждого из них отображается в выводе. Более подробное описание есть у кажого этапа.\n",
    "    '''\n",
    "\n",
    "\n",
    "    # $$$$$$$$$$$$$$$$$$$$$$$$$$$$$$$$$$$$$$$$$$$$$$$$$$$$$$$$$ qrraws.csv $$$$$$$$$$$$$$$$$$$$$$$$$$$$$$$$$$$$$$$$$$$$$$$$$$$$$$$$$\n",
    "    '''\n",
    "    Добавляем новые qrraw в qrraws.csv, дублей не будет, если попробовать ввести уже имеющиеся\n",
    "    '''\n",
    "    print(f\"\\nSTAGE: new_qrraws -> qrraws.csv ****************************************************************************************\")\n",
    "    # Вытаскиваем уже имеющиеся в источнике данные\n",
    "    qrraws_data = load_qrraws_data()\n",
    "    \n",
    "    # Формирование валидного массива словарей из new_qrraws \n",
    "    arr_of_additions = []\n",
    "    for new_qrraw in new_qrraws:\n",
    "        if qrraws_data.query(\"qrraws == @new_qrraw\")['qrraws'].count() > 0:\n",
    "            print(f'Уже есть в qrraws: {new_qrraw}')\n",
    "        else:\n",
    "            arr_of_additions.append({'qrraws':new_qrraw, 'state':0})\n",
    "    \n",
    "    # Преобразование массива словарей new_qrraws в df и присоединение его к основному qrraws_data\n",
    "    addition = pd.DataFrame(arr_of_additions)\n",
    "    qrraws_data=qrraws_data.append(addition,ignore_index=True)\n",
    "    \n",
    "    # Профилактическая очистка от дубликатов qrraw в qrraws_data\n",
    "    qrraws_data = qrraws_data.drop_duplicates(['qrraws'])\n",
    "    # Запись новых данных в источник qrraws\n",
    "    qrraws_data.to_csv(QRRAWS_PATH, sep=';', index=True, index_label='id')\n",
    "    \n",
    "    # Проверка, остались ли дубликаты\n",
    "    qrraws_data[qrraws_data.duplicated(['qrraws'])]\n",
    "    # $$$$$$$$$$$$$$$$$$$$$$$$$$$$$$$$$$$$$$$$$$$$$$$$$$$$$$$$$ qrraws.csv $$$$$$$$$$$$$$$$$$$$$$$$$$$$$$$$$$$$$$$$$$$$$$$$$$$$$$$$$\n",
    "    # $$$$$$$$$$$$$$$$$$$$$$$$$$$$$$$$$$$$$$$$$$$$$$$$$$$$$$$$$ Bills_year.csv $$$$$$$$$$$$$$$$$$$$$$$$$$$$$$$$$$$$$$$$$$$$$$$$$$$$$$$$$\n",
    "    '''\n",
    "    Запуск выгрузки данных о чеках в Bills_year.csv по qrraws. \n",
    "    Запросы идут только на записи, где state !=1, иначе считаем, что по этому чеку уже есть данные в Bills_year.csv. \n",
    "    Тут же будет вывод о qrraws, для которых не получилось добавить данные по чекам из-за ошибок\n",
    "    \n",
    "    При повторных запусках кода выше не будет никаких лишних дублей\n",
    "    '''\n",
    "    print(f\"\\nSTAGE: qrraws.csv -> Bills_year.csv ****************************************************************************************\")\n",
    "    \n",
    "    # Считываем данные из хранилища qrraws\n",
    "    qrraws_data = load_qrraws_data()\n",
    "    \n",
    "    # ****************************************************************************************\n",
    "    # На случай, если нужно полностью восстановить чеки из qrraws, сбрасываем стейты\n",
    "    # qrraws_data['state'] = 0\n",
    "    # qrraws_data.to_csv(QRRAWS_PATH, sep=';', index=True, index_label='id')\n",
    "    # ****************************************************************************************\n",
    "    \n",
    "    # Запуск загрузки в Bills_year.csv\n",
    "    qrraws_data['state'] = qrraws_data.apply(lambda x: get_bill_data(x.qrraws, x.state), axis=1)\n",
    "    # Перезапись данных в qrraws.csv, туда отправляются обновлённые коды стейта загрузки в Bills_year.csv\n",
    "    qrraws_data.to_csv(QRRAWS_PATH, sep=';', index=True, index_label='id')\n",
    "    \n",
    "    # ****************************************************************************************\n",
    "    # На случай, если нужно убрать записи, где код не 0 или не 1\n",
    "    # qrraws_data = qrraws_data.query(\"state == 0 or state == 1\")\n",
    "    # qrraws_data = qrraws_data.reset_index(drop= True)\n",
    "    # qrraws_data\n",
    "    # qrraws_data.to_csv(QRRAWS_PATH, sep=';', index=True, index_label='id')\n",
    "    # ****************************************************************************************\n",
    "    # $$$$$$$$$$$$$$$$$$$$$$$$$$$$$$$$$$$$$$$$$$$$$$$$$$$$$$$$$ Bills_year.csv $$$$$$$$$$$$$$$$$$$$$$$$$$$$$$$$$$$$$$$$$$$$$$$$$$$$$$$$$\n",
    "    # $$$$$$$$$$$$$$$$$$$$$$$$$$$$$$$$$$$$$$$$$$$$$$$$$$$$$$$$$ Goods_year.csv $$$$$$$$$$$$$$$$$$$$$$$$$$$$$$$$$$$$$$$$$$$$$$$$$$$$$$$$$\n",
    "    '''\n",
    "    Запуск выгрузки данных о чеках в Goods_year.csv по Bills_year.csv. \n",
    "    Запросы идут только на записи, где state !=1, иначе считаем, что по этому чеку уже есть данные в Goods_year.csv.\n",
    "    '''\n",
    "    print(f\"\\nSTAGE: Bills_year.csv -> Goods_year.csv ****************************************************************************************\")\n",
    "    \n",
    "    start_goods_loader()\n",
    "    # $$$$$$$$$$$$$$$$$$$$$$$$$$$$$$$$$$$$$$$$$$$$$$$$$$$$$$$$$ Goods_year.csv $$$$$$$$$$$$$$$$$$$$$$$$$$$$$$$$$$$$$$$$$$$$$$$$$$$$$$$$$"
   ]
  },
  {
   "cell_type": "markdown",
   "id": "2d94e084-f7f3-4610-9863-7390ca8c8494",
   "metadata": {},
   "source": [
    "### Для аналитики"
   ]
  },
  {
   "cell_type": "code",
   "execution_count": null,
   "id": "d8d393d6-0bc3-4eeb-b77f-9a0fd424d149",
   "metadata": {},
   "outputs": [],
   "source": []
  },
  {
   "cell_type": "markdown",
   "id": "746fa5df-aa6d-496f-8330-284445c91630",
   "metadata": {
    "tags": []
   },
   "source": [
    "## Раздел подгрузки данных. Ручное добавление в qrraws"
   ]
  },
  {
   "cell_type": "markdown",
   "id": "c30e97dd-57f6-48b0-bec8-709d191865c4",
   "metadata": {
    "tags": []
   },
   "source": [
    "Пока не реализовано ничего для автоматизации пополнения qrraws, добавляем записи в полуручном режиме:  \n",
    "- вручную или через сканер получить qrraw-ы с чеков ([Для сканирования qr с компьютера](#https://code-qr.ru/online))\n",
    "- записать эти qrraw-ы в массив new_qrraws ниже, как строки"
   ]
  },
  {
   "cell_type": "code",
   "execution_count": 25,
   "id": "d56064cf-53ed-4fd1-8395-ce178c489d3f",
   "metadata": {
    "tags": []
   },
   "outputs": [
    {
     "name": "stdout",
     "output_type": "stream",
     "text": [
      "\n",
      "STAGE: new_qrraws -> qrraws.csv ****************************************************************************************\n",
      "Уже есть в qrraws: t=20240125T1750&s=134.99&fn=7282440500188699&i=71493&fp=2442920498&n=1\n",
      "Уже есть в qrraws: t=20240125T1737&s=415.83&fn=7282440500188723&i=61218&fp=10234313&n=1\n",
      "\n",
      "STAGE: qrraws.csv -> Bills_year.csv ****************************************************************************************\n",
      "ERR 3, Превышено количество обращений по чеку. qrraw = t=20231029T1838&s=909.09&fn=7281440501305730&i=3739&fp=2449765930&n=1\n",
      "\n",
      "STAGE: Bills_year.csv -> Goods_year.csv ****************************************************************************************\n"
     ]
    },
    {
     "data": {
      "text/plain": [
       "'Обработка данных из Bills_2024.csv COMPLETED'"
      ]
     },
     "metadata": {},
     "output_type": "display_data"
    },
    {
     "data": {
      "text/plain": [
       "'Обработка данных из Bills_2023.csv COMPLETED'"
      ]
     },
     "metadata": {},
     "output_type": "display_data"
    }
   ],
   "source": [
    "# Тут формируем массив с новыми qrraw. Если внести qrraw, который уже есть в таблице, дубля не будет, т.к. метод его пропустит\n",
    "new_qrraws = [\n",
    "'t=20240125T1750&s=134.99&fn=7282440500188699&i=71493&fp=2442920498&n=1',\n",
    "'t=20240125T1737&s=415.83&fn=7282440500188723&i=61218&fp=10234313&n=1',\n",
    "]\n",
    "\n",
    "new_data_processor(new_qrraws)"
   ]
  },
  {
   "cell_type": "markdown",
   "id": "7cd226c0-5632-4195-b245-295df33ce96f",
   "metadata": {
    "tags": []
   },
   "source": [
    "# TODO, тут дальше песочница для метода разметки категорий. **Сейчас категории проставляются руками, чтобы дальше на этом обучить модель**"
   ]
  },
  {
   "cell_type": "code",
   "execution_count": 12,
   "id": "39eb5dc3-cdf9-455d-b42c-c0052732e12d",
   "metadata": {
    "jupyter": {
     "source_hidden": true
    },
    "tags": []
   },
   "outputs": [],
   "source": [
    "# '''\n",
    "# Тут создание общего пула товаров по всем годам.\n",
    "# Инициализируем full_products_df\n",
    "# '''\n",
    "# # Получаем список файлов\n",
    "# files = os.listdir(SOURCES_DIR)\n",
    "# found = [file for file in files if 'Goods' in file]\n",
    "# years_list = list(map(lambda x: x.split('.')[0].split('_')[1], found))\n",
    "\n",
    "# full_products_df = pd.DataFrame()\n",
    "\n",
    "# for year in years_list:\n",
    "#     goods_data = pd.read_csv(f'./sources/Goods_{year}.csv')\n",
    "#     display(f'Обработка данных из Goods_{year}.csv ...')\n",
    "# #     display(goods_data.head(1))\n",
    "# #     display(goods_data.info())\n",
    "#     full_products_df = full_products_df.append(goods_data,ignore_index=True)\n",
    "#     display(f'Обработка данных из Goods_{year}.csv COMPLETED')"
   ]
  },
  {
   "cell_type": "code",
   "execution_count": 13,
   "id": "6c902248-07be-47d4-8932-b8de0a684d64",
   "metadata": {
    "jupyter": {
     "source_hidden": true
    },
    "tags": []
   },
   "outputs": [],
   "source": [
    "# full_products_df.sample(10)"
   ]
  },
  {
   "cell_type": "code",
   "execution_count": 14,
   "id": "31ae2c5d-6fed-499e-a374-294a46c41b76",
   "metadata": {
    "jupyter": {
     "source_hidden": true
    },
    "tags": []
   },
   "outputs": [],
   "source": [
    "# from sklearn.svm import SVC\n",
    "# from sklearn.preprocessing import StandardScaler\n",
    "# from sklearn.preprocessing import OneHotEncoder\n",
    "\n",
    "# from sklearn.model_selection import train_test_split\n",
    "\n",
    "# data = pd.read_csv('./sources/Goods_2023.csv')\n",
    "# display(data.sample(3))\n",
    "\n",
    "# X = data.drop(columns=['category', 'bill_id', 'full_cost', 'shop_address', 'day_of_purchase', 'load_date', 'category_id'])\n",
    "# y = data['category']\n",
    "\n",
    "# display(X.head(5))\n",
    "# display(y.head(5))"
   ]
  },
  {
   "cell_type": "code",
   "execution_count": 15,
   "id": "df1c7f7f-867c-4820-b38a-fc02993d239b",
   "metadata": {
    "jupyter": {
     "source_hidden": true
    },
    "tags": []
   },
   "outputs": [],
   "source": [
    "# from sklearn.preprocessing import OneHotEncoder\n",
    "# from sklearn.preprocessing import LabelEncoder\n",
    "\n",
    "# RANDOM_STATE = 42\n",
    "\n",
    "# X_train, X_test, y_train, y_test = train_test_split(\n",
    "#     X, y, \n",
    "#     test_size=0.25, \n",
    "#     stratify=y,\n",
    "#     random_state=RANDOM_STATE)\n",
    "# А дальше задача для работы с текстами\n",
    "# https://radimrehurek.com/gensim/models/doc2vec.html\n",
    "# https://radimrehurek.com/gensim/auto_examples/tutorials/run_doc2vec_lee.html#sphx-glr-auto-examples-tutorials-run-doc2vec-lee-py"
   ]
  },
  {
   "cell_type": "code",
   "execution_count": 16,
   "id": "04bcb905-02da-420b-adf8-c7cb41f31a71",
   "metadata": {
    "jupyter": {
     "source_hidden": true
    },
    "tags": []
   },
   "outputs": [],
   "source": [
    "# pd.options.display.max_rows = 1000\n",
    "# full_products_df['name'].value_counts()"
   ]
  },
  {
   "cell_type": "code",
   "execution_count": 17,
   "id": "dfa9218f-93ba-4422-9388-ada066d94fd4",
   "metadata": {
    "jupyter": {
     "source_hidden": true
    },
    "tags": []
   },
   "outputs": [],
   "source": [
    "# url = URL\n",
    "# data = {\n",
    "#     \"token\": TOKEN,\n",
    "#     \"qrraw\": 't=20230721t1636&s=715.21&fn=9961440300305579&i=68881&fp=220365927&n=1',\n",
    "# }\n",
    "# r = requests.post(url, data=data)\n",
    "# result = json.loads(r.text)\n",
    "# result['data']['json']"
   ]
  },
  {
   "cell_type": "markdown",
   "id": "0d1e0eb9-b02c-4b49-96ab-a5a33c80ec39",
   "metadata": {},
   "source": [
    "## Раздел анализа данных TODO"
   ]
  },
  {
   "cell_type": "markdown",
   "id": "9651576a-1f08-418a-aed4-1e0ecc1af4c4",
   "metadata": {},
   "source": [
    "Текущие возможные категории:\n",
    "- Соусы\n",
    "- Чай/кофе\n",
    "- Хлеб\n",
    "- Хлебобулочные продукты\n",
    "- Кондитерские изделия\n",
    "- Сладости и гадости\n",
    "- Пищевые жиры\n",
    "- Яйца\n",
    "- Мясо и мясопродукты\n",
    "- Рыба и рыбопродукты\n",
    "- Молоко и молочные продукты\n",
    "- Крупы\n",
    "- Макаронные изделия\n",
    "- Зелень\n",
    "- Овощи\n",
    "- Фрукты и ягоды\n",
    "- Алкоголь\n",
    "- Орехи\n",
    "- Грибы\n",
    "- Консервы\n",
    "- Гигиена\n",
    "- Хозяйственное\n",
    "- Алкоголь\n",
    "- Другое\n",
    "- Полуфабрикаты\n",
    "- Пряности"
   ]
  },
  {
   "cell_type": "code",
   "execution_count": 18,
   "id": "31a9cd50-7826-45d0-9ed5-c6582e8fff2a",
   "metadata": {},
   "outputs": [],
   "source": [
    "data_2023 = pd.read_csv('./sources/Goods_2023.csv')\n",
    "data_2024 = pd.read_csv('./sources/Goods_2024.csv')"
   ]
  },
  {
   "cell_type": "code",
   "execution_count": 19,
   "id": "1bd0fa4c-b676-43ab-8982-65b689a26323",
   "metadata": {},
   "outputs": [
    {
     "data": {
      "text/plain": [
       "Овощи                         182\n",
       "Молоко и молочные продукты    130\n",
       "Фрукты и ягоды                118\n",
       "Мясо и мясопродукты            85\n",
       "Сладости и гадости             70\n",
       "Хлебобулочные продукты         48\n",
       "Хлеб                           48\n",
       "Рыба и рыбопродукты            41\n",
       "Хозяйственное                  22\n",
       "Макаронные изделия             21\n",
       "Пищевые жиры                   20\n",
       "Крупы                          17\n",
       "Яйца                           16\n",
       "Консервы                       16\n",
       "Пряности                       14\n",
       "Соусы                          14\n",
       "Другое                         13\n",
       "Чай/кофе                       11\n",
       "Орехи                          10\n",
       "Грибы                          10\n",
       "Зелень                          9\n",
       "Алкоголь                        8\n",
       "Полуфабрикаты                   8\n",
       "Гигиена                         4\n",
       "Name: category, dtype: int64"
      ]
     },
     "execution_count": 19,
     "metadata": {},
     "output_type": "execute_result"
    }
   ],
   "source": [
    "data_2023['category'].value_counts()"
   ]
  },
  {
   "cell_type": "code",
   "execution_count": 20,
   "id": "0f8a0f1d-5503-4538-809c-cd3167d39437",
   "metadata": {},
   "outputs": [
    {
     "data": {
      "text/plain": [
       "Series([], Name: category, dtype: int64)"
      ]
     },
     "execution_count": 20,
     "metadata": {},
     "output_type": "execute_result"
    }
   ],
   "source": [
    "data_2024['category'].value_counts()"
   ]
  },
  {
   "cell_type": "code",
   "execution_count": null,
   "id": "f90fa676-7da5-427b-87b8-395740a6a0ae",
   "metadata": {},
   "outputs": [],
   "source": []
  },
  {
   "cell_type": "code",
   "execution_count": null,
   "id": "52356e54-ceed-4e9b-9afd-0ea5c835f8e3",
   "metadata": {},
   "outputs": [],
   "source": []
  }
 ],
 "metadata": {
  "kernelspec": {
   "display_name": "Python 3 (ipykernel)",
   "language": "python",
   "name": "python3"
  },
  "language_info": {
   "codemirror_mode": {
    "name": "ipython",
    "version": 3
   },
   "file_extension": ".py",
   "mimetype": "text/x-python",
   "name": "python",
   "nbconvert_exporter": "python",
   "pygments_lexer": "ipython3",
   "version": "3.9.18"
  }
 },
 "nbformat": 4,
 "nbformat_minor": 5
}
